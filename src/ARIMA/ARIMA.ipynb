{
 "cells": [
  {
   "cell_type": "markdown",
   "metadata": {},
   "source": [
    "# Set up\n",
    "pythonのARIMAを利用するためには以下の設定が必要\n",
    " - `sudo apt-get install Cython`\n",
    "   - [statsModels Document](http://www.statsmodels.org/dev/install.html)\n",
    " - `git clone git://github.com/statsmodels/statsmodels.git`\n",
    "   - `git pull`\n",
    "   - `python setup.py build_ext --inplace`\n",
    "   - PYTHONPATHにstatsmodelsディレクトリを追加\n",
    " - `pip install pandas-datareader`"
   ]
  },
  {
   "cell_type": "markdown",
   "metadata": {},
   "source": [
    "# 流れ\n",
    "1. データの定常性検定\n",
    "2. 定常データへの加工\n",
    "3. ARIMAモデル推計\n",
    "4. 残差の系列相関のチェック\n",
    "5. （G）ARCHモデル推定"
   ]
  },
  {
   "cell_type": "markdown",
   "metadata": {},
   "source": [
    "データ取得  \n",
    "pandas-datareaderからyahooの株価データを取得"
   ]
  },
  {
   "cell_type": "code",
   "execution_count": 5,
   "metadata": {
    "collapsed": false
   },
   "outputs": [
    {
     "name": "stdout",
     "output_type": "stream",
     "text": [
      "<class 'pandas.core.frame.DataFrame'>\n",
      "(6347, 6)\n",
      "                Open      High       Low     Close  Adj Close   Volume\n",
      "Date                                                                  \n",
      "1990-01-02  7.983336  8.257051  7.937717  8.257051   3.281568  6241800\n",
      "1990-01-03  8.302670  8.371099  8.257051  8.302670   3.299698  8031900\n",
      "1990-01-04  8.325480  8.348289  8.234241  8.302670   3.299698  3932500\n",
      "1990-01-05  8.302670  8.348289  8.188622  8.188622   3.254373  3820400\n",
      "1990-01-08  8.165812  8.211432  8.120193  8.188622   3.254373  3360800\n",
      "                 Open       High    Low      Close  Adj Close    Volume\n",
      "Date                                                                   \n",
      "2015-03-04  16.090000  16.139999  15.93  16.030001  13.946456  25659400\n",
      "2015-03-05  16.090000  16.230000  16.09  16.110001  14.016059  16548200\n",
      "2015-03-06  16.040001  16.200001  15.91  15.930000  13.859454  24420500\n",
      "2015-03-09  15.980000  16.100000  15.93  16.030001  13.946456  17132400\n",
      "2015-03-10  15.940000  15.950000  15.69  15.720000  13.676750  31687700\n"
     ]
    }
   ],
   "source": [
    "import datetime as dt\n",
    "import pandas_datareader.data as web\n",
    "import types\n",
    "\n",
    "st = dt.datetime(1990, 1, 1)\n",
    "end = dt.datetime(2015, 3, 10)\n",
    "\n",
    "data = web.DataReader(\"F\", 'yahoo', st, end)\n",
    "\n",
    "print(type(data))\n",
    "print(data.shape)\n",
    "print(data.head())\n",
    "print(data.tail())"
   ]
  },
  {
   "cell_type": "markdown",
   "metadata": {},
   "source": [
    "調整済み終値の列を抽出"
   ]
  },
  {
   "cell_type": "code",
   "execution_count": 6,
   "metadata": {
    "collapsed": false
   },
   "outputs": [
    {
     "name": "stdout",
     "output_type": "stream",
     "text": [
      "(6347,)\n",
      "Date\n",
      "1990-01-02    3.281568\n",
      "1990-01-03    3.299698\n",
      "1990-01-04    3.299698\n",
      "1990-01-05    3.254373\n",
      "1990-01-08    3.254373\n",
      "Name: Adj Close, dtype: float64\n",
      "Date\n",
      "2015-03-04    13.946456\n",
      "2015-03-05    14.016059\n",
      "2015-03-06    13.859454\n",
      "2015-03-09    13.946456\n",
      "2015-03-10    13.676750\n",
      "Name: Adj Close, dtype: float64\n"
     ]
    }
   ],
   "source": [
    "close = data['Adj Close'][:]\n",
    "print(close.shape)\n",
    "print(close.head())\n",
    "print(close.tail())"
   ]
  },
  {
   "cell_type": "markdown",
   "metadata": {},
   "source": [
    "欠損値の確認"
   ]
  },
  {
   "cell_type": "code",
   "execution_count": 7,
   "metadata": {
    "collapsed": false
   },
   "outputs": [
    {
     "data": {
      "text/plain": [
       "0"
      ]
     },
     "execution_count": 7,
     "metadata": {},
     "output_type": "execute_result"
    }
   ],
   "source": [
    "close.isnull().sum()"
   ]
  },
  {
   "cell_type": "markdown",
   "metadata": {},
   "source": [
    "データを目視確認"
   ]
  },
  {
   "cell_type": "code",
   "execution_count": 8,
   "metadata": {
    "collapsed": false
   },
   "outputs": [
    {
     "data": {
      "image/png": "[encoded data removed]",
      "text/plain": [
       "<matplotlib.figure.Figure at 0x7f535dd718d0>"
      ]
     },
     "metadata": {},
     "output_type": "display_data"
    }
   ],
   "source": [
    "from statsmodels.tsa import arima_model\n",
    "import matplotlib.pyplot as plt\n",
    "\n",
    "plt.plot(close)\n",
    "plt.show()"
   ]
  },
  {
   "cell_type": "markdown",
   "metadata": {
    "collapsed": true
   },
   "source": [
    "自己相関チェック"
   ]
  },
  {
   "cell_type": "code",
   "execution_count": 9,
   "metadata": {
    "collapsed": false
   },
   "outputs": [
    {
     "name": "stdout",
     "output_type": "stream",
     "text": [
      "[ 1.          0.99870803  0.99761067  0.99647262  0.99530838  0.99405303\n",
      "  0.99283325  0.99166074  0.9904205   0.98918913  0.98798862  0.98676658\n",
      "  0.98556482  0.98435363  0.98311845  0.9818944   0.98065828  0.97932701\n",
      "  0.97803984  0.97676803  0.97549742  0.97420001  0.97292654  0.97164438\n",
      "  0.97033201  0.96902984  0.96772144  0.96647404  0.96518998  0.96393181\n",
      "  0.9626381   0.96142508  0.96019255  0.95901027  0.95786409  0.95672634\n",
      "  0.95564937  0.95461384  0.9535274   0.95239105  0.95118735]\n"
     ]
    },
    {
     "data": {
      "image/png": "[encoded data removed]",
      "text/plain": [
       "<matplotlib.figure.Figure at 0x7f539c86d090>"
      ]
     },
     "metadata": {},
     "output_type": "display_data"
    }
   ],
   "source": [
    "from statsmodels.tsa import stattools\n",
    "\n",
    "close_acf = stattools.acf(close)\n",
    "print(close_acf)\n",
    "\n",
    "plt.bar(range(len(close_acf)), close_acf, width = 0.01)\n",
    "plt.show()"
   ]
  },
  {
   "cell_type": "markdown",
   "metadata": {},
   "source": [
    "当日の株価は5,10,33,38前に影響あり\n",
    "\n",
    "当日への影響を除去し、偏自己相関係数をチェック"
   ]
  },
  {
   "cell_type": "code",
   "execution_count": 10,
   "metadata": {
    "collapsed": false
   },
   "outputs": [
    {
     "name": "stdout",
     "output_type": "stream",
     "text": [
      "[  1.00000000e+00   9.98865409e-01   8.51114834e-02  -1.13028343e-02\n",
      "  -1.47406552e-02  -4.31725617e-02   8.44041047e-03   2.39419874e-02\n",
      "  -2.61131074e-02  -9.06043820e-04   1.24911434e-02  -8.85304714e-03\n",
      "   9.23903219e-03  -3.85463536e-03  -1.43441968e-02   4.00678104e-03\n",
      "  -5.31029129e-03  -4.44385324e-02   1.35441464e-02   9.31615120e-03\n",
      "   2.04175532e-03  -8.68843393e-03   4.54695762e-03  -4.88633474e-03\n",
      "  -1.13632166e-02   1.23077961e-03  -4.62597194e-03   2.76259925e-02\n",
      "  -1.16008617e-02   7.12597213e-03  -1.46516987e-02   3.12059429e-02\n",
      "  -1.98060101e-03   2.21785997e-02   1.65702856e-02   2.49209245e-03\n",
      "   2.76344746e-02   2.25945363e-02  -2.40685186e-02  -2.72562724e-02\n",
      "  -3.60254794e-02]\n"
     ]
    },
    {
     "data": {
      "image/png": "[encoded data removed]",
      "text/plain": [
       "<matplotlib.figure.Figure at 0x7f535dd1f390>"
      ]
     },
     "metadata": {},
     "output_type": "display_data"
    }
   ],
   "source": [
    "close_pacf = stattools.pacf(close)\n",
    "print(close_pacf)\n",
    "\n",
    "plt.bar(range(len(close_pacf)), close_pacf, width = 0.01)\n",
    "plt.show()"
   ]
  },
  {
   "cell_type": "code",
   "execution_count": null,
   "metadata": {
    "collapsed": true
   },
   "outputs": [],
   "source": [
    "http://qiita.com/HirofumiYashima/items/a5d92607bedf3d58944d"
   ]
  }
 ],
 "metadata": {
  "kernelspec": {
   "display_name": "Python 2",
   "language": "python",
   "name": "python2"
  },
  "language_info": {
   "codemirror_mode": {
    "name": "ipython",
    "version": 2
   },
   "file_extension": ".py",
   "mimetype": "text/x-python",
   "name": "python",
   "nbconvert_exporter": "python",
   "pygments_lexer": "ipython2",
   "version": "2.7.13"
  }
 },
 "nbformat": 4,
 "nbformat_minor": 2
}
